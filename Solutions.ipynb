{
 "cells": [
  {
   "cell_type": "code",
   "execution_count": 2,
   "id": "b0ad6dec-9740-4a9c-a624-937079371e43",
   "metadata": {},
   "outputs": [
    {
     "name": "stdout",
     "output_type": "stream",
     "text": [
      "{'London': 19.3, 'Leeds': 15.7, 'Bristol': 18.5, 'Oxford': 21.1}\n"
     ]
    }
   ],
   "source": [
    "from typing import Any, Dict, Iterable, List, Optional\n",
    "import math\n",
    "\n",
    "def _to_valid_temp(x: Any) -> Optional[float]:\n",
    "    if x is None:\n",
    "        return None\n",
    "\n",
    "    # Convert numeric strings; keep ints/floats as-is\n",
    "    try:\n",
    "        val = float(x)\n",
    "    except (TypeError, ValueError):\n",
    "        return None\n",
    "\n",
    "    # Filter out NaN/Inf\n",
    "    if not math.isfinite(val):\n",
    "        return None\n",
    "\n",
    "    # Corruption threshold\n",
    "    if val < -100:\n",
    "        return None\n",
    "\n",
    "    return val\n",
    "\n",
    "\n",
    "def _extract_candidate_readings(raw: Any) -> Iterable[Any]:\n",
    "    # Case 1: a plain list/tuple of readings\n",
    "    if isinstance(raw, (list, tuple)):\n",
    "        return raw\n",
    "\n",
    "    # Case 2/3: a dict with either \"temps\" or \"records\"\n",
    "    if isinstance(raw, dict):\n",
    "        if \"temps\" in raw:\n",
    "            return raw.get(\"temps\", [])\n",
    "        if \"records\" in raw:\n",
    "            candidates = []\n",
    "            for rec in raw.get(\"records\", []):\n",
    "                # Expect something like [timestamp, temp]\n",
    "                if isinstance(rec, (list, tuple)) and len(rec) >= 2:\n",
    "                    candidates.append(rec[1])   # pick the temperature slot\n",
    "                # else: missing temperature -> ignore\n",
    "            return candidates\n",
    "\n",
    "    # Unknown format -> no readings\n",
    "    return []\n",
    "\n",
    "\n",
    "def compute_average_temperature(city_data: Dict[str, Any]) -> Dict[str, float]:\n",
    "    result: Dict[str, float] = {}\n",
    "\n",
    "    for city, raw in city_data.items():\n",
    "        # Step A: normalize to candidate values\n",
    "        candidates = _extract_candidate_readings(raw)\n",
    "\n",
    "        # Step B: validate/convert each candidate into a float temperature\n",
    "        valid = []\n",
    "        for c in candidates:\n",
    "            v = _to_valid_temp(c)\n",
    "            if v is not None:\n",
    "                valid.append(v)\n",
    "\n",
    "        # Step C: if any valid values, compute rounded mean\n",
    "        if valid:\n",
    "            avg = round(sum(valid) / len(valid), 1)\n",
    "            result[city] = avg\n",
    "        # else: city omitted per the spec\n",
    "\n",
    "    return result\n",
    "city_data = {\n",
    "    \"London\": [18.2, \"19.7\", None, -999, 20.1],\n",
    "    \"Leeds\": {\"temps\": [16.0, 15.4, \"error\"]},\n",
    "    \"Bristol\": {\"records\": [[\"2023-07-24T09:00\", 18.5],\n",
    "                            [\"2023-07-24T10:00\", None],\n",
    "                            [\"2023-07-24T11:00\"]]},\n",
    "    \"Oxford\": {\"records\": [[\"09:00\", 21.5], [\"10:00\", 20.8], [\"11:00\", \"N/A\"]]},\n",
    "    \"Hull\": [],\n",
    "    \"Bath\": {\"temps\": []}\n",
    "}\n",
    "\n",
    "print(compute_average_temperature(city_data))"
   ]
  },
  {
   "cell_type": "code",
   "execution_count": 13,
   "id": "dacfabec-57ef-441d-b6b7-d70cb04046fe",
   "metadata": {},
   "outputs": [
    {
     "name": "stdout",
     "output_type": "stream",
     "text": [
      "['pbinevnapr@kyqf_uip.com', 'regression@star_ngn.com']\n"
     ]
    }
   ],
   "source": [
    "import PyPDF2\n",
    "\n",
    "# Open the PDF file\n",
    "with open(\"Puzzle_v1_3.pdf\", \"rb\") as pdf_file:\n",
    "    reader = PyPDF2.PdfReader(pdf_file)\n",
    "\n",
    "    # Extract text from all pages\n",
    "    text = \"\"\n",
    "    for page in reader.pages:\n",
    "        text += page.extract_text()\n",
    "import re\n",
    "\n",
    "# Regex for matching an email address\n",
    "email_pattern = r\"[a-zA-Z0-9_.+-]+@[a-zA-Z0-9-_]+\\.[a-zA-Z0-9-.]+\"\n",
    "\n",
    "# Find all matches in the text\n",
    "emails = re.findall(email_pattern, text)\n",
    "\n",
    "# Remove duplicates (if needed)\n",
    "emails = list(set(emails))\n",
    "\n",
    "print(emails)\n"
   ]
  },
  {
   "cell_type": "code",
   "execution_count": null,
   "id": "4e928a79-7222-41ac-851f-c3b9fe6a9f67",
   "metadata": {},
   "outputs": [],
   "source": [
    "import pandas as pd\n",
    "# Step 1: Load the dataset\n",
    "df = pd.read_csv(\"data.csv\")\n",
    "# Step 2: Remove duplicates\n",
    "# keep='first' → keep the first occurrence, drop the rest\n",
    "df_cleaned = df.drop_duplicates(keep='first')\n",
    "# Step 3: Save cleaned data back\n",
    "df_cleaned.to_csv(\"cleaned_data.csv\", index=False)"
   ]
  },
  {
   "cell_type": "code",
   "execution_count": null,
   "id": "fe36712a-11a7-418d-83e5-fb9d2c8da44a",
   "metadata": {},
   "outputs": [],
   "source": [
    "import pandas as pd\n",
    "\n",
    "# Read yesterday's and today's CSVs\n",
    "yesterday = pd.read_csv(\"yesterday.csv\")\n",
    "today = pd.read_csv(\"today.csv\")\n",
    "\n",
    "# Merge on unique ID to align rows\n",
    "merged = pd.merge(yesterday, today, on=\"id\", suffixes=('_yest', '_today'))\n",
    "\n",
    "# Find rows where any column (except id) has changed\n",
    "changed_rows = merged[\n",
    "    (merged.filter(like='_yest') != merged.filter(like='_today')).any(axis=1)\n",
    "]\n",
    "\n",
    "# Display changes\n",
    "for _, row in changed_rows.iterrows():\n",
    "    print(f\"ID: {row['id']}\")\n",
    "    for col in [c for c in merged.columns if '_yest' in c]:\n",
    "        base_col = col.replace('_yest', '')\n",
    "        old_val = row[f\"{base_col}_yest\"]\n",
    "        new_val = row[f\"{base_col}_today\"]\n",
    "        if old_val != new_val:\n",
    "            print(f\" - {base_col}: '{old_val}' → '{new_val}'\")\n",
    "    print()"
   ]
  },
  {
   "cell_type": "code",
   "execution_count": 15,
   "id": "160df95d-3c22-457a-a8d2-6c2d1673258a",
   "metadata": {},
   "outputs": [
    {
     "name": "stdout",
     "output_type": "stream",
     "text": [
      "Error: Cannot divide by zero.\n"
     ]
    }
   ],
   "source": [
    "try:\n",
    "    result = 10 / 0\n",
    "except ZeroDivisionError:\n",
    "    print(\"Error: Cannot divide by zero.\")\n"
   ]
  },
  {
   "cell_type": "code",
   "execution_count": null,
   "id": "73d1d3e7-b13d-4464-838e-a15e4b52a6a1",
   "metadata": {},
   "outputs": [],
   "source": [
    "\"\"\"\n",
    "step-1: 35/5 = 7 so, at first i need 7 test cases to test all the 35 computer\n",
    "Step 2: Test the winners of each group (7 computers) to find the fastest overall and rank\n",
    "them — 2nd fastest overall must be from this race.\n",
    "Step 3: Test the possible contenders for 2nd & 3rd fastest (the 2nd & 3rd from the\n",
    "fastest’s group, the 2nd from 2nd place’s group, and the 2nd & 3rd from the final race) —\n",
    "find top 2 here for final 2nd & 3rd places.\n",
    "Total tests = 7 (groups) + 2 (winners) + 1 (final) = 10.\n",
    "\n",
    "\"\"\""
   ]
  },
  {
   "cell_type": "code",
   "execution_count": null,
   "id": "242c3aa8-cc0b-46a0-9751-b9658f195c51",
   "metadata": {},
   "outputs": [],
   "source": []
  }
 ],
 "metadata": {
  "kernelspec": {
   "display_name": "Python 3 (ipykernel)",
   "language": "python",
   "name": "python3"
  },
  "language_info": {
   "codemirror_mode": {
    "name": "ipython",
    "version": 3
   },
   "file_extension": ".py",
   "mimetype": "text/x-python",
   "name": "python",
   "nbconvert_exporter": "python",
   "pygments_lexer": "ipython3",
   "version": "3.12.7"
  }
 },
 "nbformat": 4,
 "nbformat_minor": 5
}
